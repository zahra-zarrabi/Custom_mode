{
  "nbformat": 4,
  "nbformat_minor": 0,
  "metadata": {
    "colab": {
      "name": "inference_face_recognition.ipynb",
      "provenance": [],
      "collapsed_sections": [],
      "include_colab_link": true
    },
    "kernelspec": {
      "name": "python3",
      "display_name": "Python 3"
    },
    "language_info": {
      "name": "python"
    }
  },
  "cells": [
    {
      "cell_type": "markdown",
      "metadata": {
        "id": "view-in-github",
        "colab_type": "text"
      },
      "source": [
        "<a href=\"https://colab.research.google.com/github/zahra-zarrabi/Custom_mode/blob/master/inference_face_recognition.ipynb\" target=\"_parent\"><img src=\"https://colab.research.google.com/assets/colab-badge.svg\" alt=\"Open In Colab\"/></a>"
      ]
    },
    {
      "cell_type": "code",
      "metadata": {
        "id": "Lyu1p_x4L51z"
      },
      "source": [
        "import tensorflow as tf\n",
        "from tensorflow.keras.layers import Dense,Conv2D,Flatten\n",
        "import cv2\n",
        "import numpy as np"
      ],
      "execution_count": null,
      "outputs": []
    },
    {
      "cell_type": "code",
      "metadata": {
        "id": "iq1wHj_XKfF4"
      },
      "source": [
        "class MyModel(tf.keras.Model):\n",
        "  def __init__(self,number_of_classes):\n",
        "    super().__init__()\n",
        "    self.conv1=Conv2D(32,(3,3),activation='relu')\n",
        "    self.conv1=Conv2D(16,(3,3),activation='relu')\n",
        "    self.flatten=Flatten()\n",
        "    self.fc1=Dense(128,activation='relu')\n",
        "    self.fc2=Dense(number_of_classes, activation='softmax')\n",
        "  def call(self,x):\n",
        "  #   input = self.conv1(self.inputs)\n",
        "    x = self.conv1(x)\n",
        "    x = self.flatten(x)\n",
        "    x = self.fc1(x)\n",
        "    output = self.fc2(x)\n",
        "    return output"
      ],
      "execution_count": null,
      "outputs": []
    },
    {
      "cell_type": "code",
      "metadata": {
        "id": "3gaUHbycKgb2"
      },
      "source": [
        "model = MyModel(14)"
      ],
      "execution_count": null,
      "outputs": []
    },
    {
      "cell_type": "code",
      "metadata": {
        "colab": {
          "base_uri": "https://localhost:8080/"
        },
        "id": "woCb0N12L_BP",
        "outputId": "7998899d-2447-49b5-e901-36e155dc0018"
      },
      "source": [
        "model.load_weights('/content/drive/MyDrive/model1/')"
      ],
      "execution_count": null,
      "outputs": [
        {
          "output_type": "execute_result",
          "data": {
            "text/plain": [
              "<tensorflow.python.training.tracking.util.CheckpointLoadStatus at 0x7f8b06a98e10>"
            ]
          },
          "metadata": {},
          "execution_count": 4
        }
      ]
    },
    {
      "cell_type": "code",
      "metadata": {
        "colab": {
          "base_uri": "https://localhost:8080/"
        },
        "id": "vyRfc-mTODA1",
        "outputId": "fc9365bf-b528-4a43-804e-ecfba413f568"
      },
      "source": [
        "image=cv2.imread('angelia.jpg')\n",
        "image=cv2.cvtColor(image,cv2.COLOR_BGR2RGB)\n",
        "image=cv2.resize(image,(512,512))\n",
        "image=image/255.\n",
        "image=image.reshape(1,512,512,3)\n",
        "y_pred = model(image,training=False)\n",
        "\n",
        "print(np.argmax(y_pred))"
      ],
      "execution_count": null,
      "outputs": [
        {
          "output_type": "stream",
          "name": "stdout",
          "text": [
            "2\n"
          ]
        }
      ]
    },
    {
      "cell_type": "code",
      "metadata": {
        "id": "mUyOKdsxtfM6"
      },
      "source": [
        "!pip install retina-face"
      ],
      "execution_count": null,
      "outputs": []
    },
    {
      "cell_type": "code",
      "metadata": {
        "id": "mvUtrgUHthFm"
      },
      "source": [
        "from retinaface import RetinaFace\n",
        "import matplotlib.pyplot as plt\n",
        "\n",
        "face=RetinaFace.extract_faces('leila.jpeg',align=True)\n",
        "face=face[0]\n",
        "image=cv2.resize(face,(512,512))\n",
        "# plt.imshow(image)\n",
        "plt.imsave('d.jpg',image)"
      ],
      "execution_count": null,
      "outputs": []
    }
  ]
}