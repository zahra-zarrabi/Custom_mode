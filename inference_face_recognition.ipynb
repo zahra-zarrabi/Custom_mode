{
  "nbformat": 4,
  "nbformat_minor": 0,
  "metadata": {
    "colab": {
      "name": "inference_face_recognition.ipynb",
      "provenance": [],
      "collapsed_sections": [],
      "include_colab_link": true
    },
    "kernelspec": {
      "name": "python3",
      "display_name": "Python 3"
    },
    "language_info": {
      "name": "python"
    }
  },
  "cells": [
    {
      "cell_type": "markdown",
      "metadata": {
        "id": "view-in-github",
        "colab_type": "text"
      },
      "source": [
        "<a href=\"https://colab.research.google.com/github/zahra-zarrabi/FaceRecognition/blob/master/inference_face_recognition.ipynb\" target=\"_parent\"><img src=\"https://colab.research.google.com/assets/colab-badge.svg\" alt=\"Open In Colab\"/></a>"
      ]
    },
    {
      "cell_type": "code",
      "metadata": {
        "id": "Lyu1p_x4L51z"
      },
      "source": [
        "import tensorflow as tf\n",
        "from tensorflow.keras.layers import Dense,Conv2D,Flatten,MaxPooling2D,Dropout\n",
        "import cv2\n",
        "import numpy as np\n",
        "\n",
        "width=height=256"
      ],
      "execution_count": 7,
      "outputs": []
    },
    {
      "cell_type": "code",
      "metadata": {
        "id": "iq1wHj_XKfF4"
      },
      "source": [
        "class MyModel(tf.keras.Model):\n",
        "  def __init__(self,number_of_classes):\n",
        "    super().__init__()\n",
        "    self.conv1=Conv2D(32,(3,3),input_shape=(width,height,3),activation='relu')\n",
        "    self.conv2=Conv2D(64,(3,3),activation='relu')\n",
        "    self.conv3=Conv2D(128,(3,3),activation='relu')\n",
        "    # self.conv4=Conv2D(128,(3,3),activation='relu') \n",
        "    self.maxpooling = MaxPooling2D()\n",
        "    self.flatten=Flatten()\n",
        "    self.dropout = Dropout(0.5)\n",
        "    self.fc1=Dense(256,activation='relu')\n",
        "    self.fc2=Dense(128,activation='relu')\n",
        "    self.fc3=Dense(number_of_classes, activation='softmax')\n",
        "    \n",
        "  def call(self,x):    \n",
        "    x = self.conv1(x)\n",
        "    x = self.maxpooling(x)\n",
        "    x = self.conv2(x)\n",
        "    x = self.maxpooling(x)\n",
        "    x = self.conv3(x)\n",
        "    x = self.maxpooling(x)\n",
        "    x = self.flatten(x)\n",
        "    x = self.fc1(x)\n",
        "    x = self.dropout(x)\n",
        "    x = self.fc2(x)\n",
        "    x = self.dropout(x)\n",
        "    output = self.fc3(x)\n",
        "    return output"
      ],
      "execution_count": 8,
      "outputs": []
    },
    {
      "cell_type": "code",
      "metadata": {
        "id": "3gaUHbycKgb2"
      },
      "source": [
        "model = MyModel(14)"
      ],
      "execution_count": 9,
      "outputs": []
    },
    {
      "cell_type": "code",
      "metadata": {
        "colab": {
          "base_uri": "https://localhost:8080/"
        },
        "id": "woCb0N12L_BP",
        "outputId": "d0c4fd9e-1d9e-4160-f241-86681d8daeb2"
      },
      "source": [
        "model.load_weights('/content/drive/MyDrive/model2/')"
      ],
      "execution_count": 10,
      "outputs": [
        {
          "output_type": "execute_result",
          "data": {
            "text/plain": [
              "<tensorflow.python.training.tracking.util.CheckpointLoadStatus at 0x7ff60f739090>"
            ]
          },
          "metadata": {},
          "execution_count": 10
        }
      ]
    },
    {
      "cell_type": "code",
      "metadata": {
        "id": "9KNpRMqUe3-7"
      },
      "source": [
        "person = {0:'Ali Khamenei',1:'Angelina Jolie',2:'Barak Obama',3:'Behnam Bani',4:'Donald Trump',5:'Emma Watson',6:'Han Hye Jin',7:'Kim Jong Un',8:'Leyla Hatami',9:'Lionel Messi',10:'Michelle Obama',11:'Morgan Freeman',12:'Queen Elizabeth',13:'Scarlett Johansson'}"
      ],
      "execution_count": 17,
      "outputs": []
    },
    {
      "cell_type": "code",
      "metadata": {
        "colab": {
          "base_uri": "https://localhost:8080/"
        },
        "id": "vyRfc-mTODA1",
        "outputId": "132c46ad-b165-424f-e2c1-5ecad8c1c6b2"
      },
      "source": [
        "image=cv2.imread('an_0.jpg')\n",
        "image=cv2.cvtColor(image,cv2.COLOR_BGR2RGB)\n",
        "image=cv2.resize(image,(width,height))\n",
        "image=image/255.\n",
        "image=tf.expand_dims(image,axis=0)\n",
        "y_pred = model(image,training=False)\n",
        "y_pred = np.argmax(y_pred)\n",
        "print(y_pred)\n",
        "print(person[y_pred])"
      ],
      "execution_count": 33,
      "outputs": [
        {
          "output_type": "stream",
          "name": "stdout",
          "text": [
            "1\n",
            "Angelina Jolie\n"
          ]
        }
      ]
    }
  ]
}