{
  "nbformat": 4,
  "nbformat_minor": 0,
  "metadata": {
    "colab": {
      "name": "face_recognition",
      "provenance": [],
      "collapsed_sections": [],
      "include_colab_link": true
    },
    "kernelspec": {
      "name": "python3",
      "display_name": "Python 3"
    },
    "language_info": {
      "name": "python"
    },
    "accelerator": "GPU"
  },
  "cells": [
    {
      "cell_type": "markdown",
      "metadata": {
        "id": "view-in-github",
        "colab_type": "text"
      },
      "source": [
        "<a href=\"https://colab.research.google.com/github/zahra-zarrabi/FaceRecognition/blob/master/face_recognition.ipynb\" target=\"_parent\"><img src=\"https://colab.research.google.com/assets/colab-badge.svg\" alt=\"Open In Colab\"/></a>"
      ]
    },
    {
      "cell_type": "code",
      "metadata": {
        "id": "eTT892u7xVin"
      },
      "source": [
        "%%capture\n",
        "!pip install wandb"
      ],
      "execution_count": 1,
      "outputs": []
    },
    {
      "cell_type": "code",
      "metadata": {
        "id": "5dVBI9eKQYES"
      },
      "source": [
        "import wandb\n",
        "from wandb.keras import WandbCallback\n",
        "\n",
        "configs = {\n",
        "              \"learning_rate\": 0.001,\n",
        "              \"epochs\": 50,\n",
        "              \"batch_size\": 32\n",
        "           }\n",
        "\n",
        "wandb.login()\n",
        "run = wandb.init(project='face-recognition', config=configs)\n",
        "config = wandb.config\n"
      ],
      "execution_count": null,
      "outputs": []
    },
    {
      "cell_type": "code",
      "metadata": {
        "id": "2yFI-KJ5ydJG"
      },
      "source": [
        "import tensorflow as tf\n",
        "from tensorflow.keras.preprocessing.image import ImageDataGenerator\n",
        "import matplotlib.pyplot as plt\n",
        "from tensorflow.keras.layers import Dense,Conv2D,Flatten,MaxPooling2D,Dropout\n",
        "from tqdm import tqdm"
      ],
      "execution_count": null,
      "outputs": []
    },
    {
      "cell_type": "code",
      "metadata": {
        "id": "JxW5QX7awvar",
        "colab": {
          "base_uri": "https://localhost:8080/"
        },
        "outputId": "17d14f1f-6ef1-4018-bf3f-f535bbd50acb"
      },
      "source": [
        "from google.colab import drive\n",
        "drive.mount('/content/drive')"
      ],
      "execution_count": null,
      "outputs": [
        {
          "output_type": "stream",
          "name": "stdout",
          "text": [
            "Mounted at /content/drive\n"
          ]
        }
      ]
    },
    {
      "cell_type": "markdown",
      "metadata": {
        "id": "jzLJ-DzuQwbb"
      },
      "source": [
        "# **👩‍🍳 Prepare Dataset**"
      ]
    },
    {
      "cell_type": "code",
      "metadata": {
        "colab": {
          "base_uri": "https://localhost:8080/"
        },
        "id": "29AJJ25qQvii",
        "outputId": "8113c9d4-e4be-4041-b8a4-3ae31032e829"
      },
      "source": [
        "width=height=256\n",
        "image_data_generator = ImageDataGenerator(rescale=1./255,\n",
        "                                          horizontal_flip = True,\n",
        "                                          validation_split= 0.2)\n",
        "\n",
        "train_data = image_data_generator.flow_from_directory('/content/drive/MyDrive/7-7 dataset',\n",
        "                                                      class_mode='categorical',\n",
        "                                                      batch_size=config.batch_size,\n",
        "                                                      shuffle=True,\n",
        "                                                      target_size=(width,height),\n",
        "                                                      subset='training')\n",
        "\n",
        "val_data = image_data_generator.flow_from_directory('/content/drive/MyDrive/7-7 dataset',\n",
        "                                                      class_mode='categorical',\n",
        "                                                      batch_size=config.batch_size,\n",
        "                                                      shuffle=False,\n",
        "                                                      target_size=(width, height),\n",
        "                                                      subset='validation')"
      ],
      "execution_count": null,
      "outputs": [
        {
          "output_type": "stream",
          "name": "stdout",
          "text": [
            "Found 1091 images belonging to 14 classes.\n",
            "Found 268 images belonging to 14 classes.\n"
          ]
        }
      ]
    },
    {
      "cell_type": "code",
      "metadata": {
        "id": "7BYWR2IWxrjx"
      },
      "source": [
        "train_images = next(train_data)[0]\n",
        "plt.figure(figsize = (8,8))\n",
        "for i in range(16):\n",
        "  plt.subplot(4,4,i+1)\n",
        "  plt.xticks([])\n",
        "  plt.yticks([])\n",
        "  plt.grid(False)\n",
        "  # plt.imshow(train_images[i])\n",
        "  print(train_images.shape)"
      ],
      "execution_count": null,
      "outputs": []
    },
    {
      "cell_type": "markdown",
      "metadata": {
        "id": "svbLa4N5zlpS"
      },
      "source": [
        "# 🧠 Define the Model and the Training Loop"
      ]
    },
    {
      "cell_type": "code",
      "metadata": {
        "id": "-ydSJGtQzeia"
      },
      "source": [
        "class MyModel(tf.keras.Model):\n",
        "  def __init__(self,number_of_classes):\n",
        "    super().__init__()\n",
        "    self.conv1=Conv2D(32,(3,3),input_shape=(width,height,3),activation='relu')\n",
        "    self.conv2=Conv2D(64,(3,3),activation='relu')\n",
        "    self.conv3=Conv2D(128,(3,3),activation='relu')\n",
        "    # self.conv4=Conv2D(128,(3,3),activation='relu') \n",
        "    self.maxpooling = MaxPooling2D()\n",
        "    self.flatten=Flatten()\n",
        "    self.dropout = Dropout(0.5)\n",
        "    self.fc1=Dense(256,activation='relu')\n",
        "    self.fc2=Dense(128,activation='relu')\n",
        "    self.fc3=Dense(number_of_classes, activation='softmax')\n",
        "    \n",
        "  def call(self,x):    \n",
        "    x = self.conv1(x)\n",
        "    x = self.maxpooling(x)\n",
        "    x = self.conv2(x)\n",
        "    x = self.maxpooling(x)\n",
        "    x = self.conv3(x)\n",
        "    x = self.maxpooling(x)\n",
        "    x = self.flatten(x)\n",
        "    x = self.fc1(x)\n",
        "    x = self.dropout(x)\n",
        "    x = self.fc2(x)\n",
        "    x = self.dropout(x)\n",
        "    output = self.fc3(x)\n",
        "    return output"
      ],
      "execution_count": null,
      "outputs": []
    },
    {
      "cell_type": "code",
      "metadata": {
        "id": "2BYFd9zvmf5W"
      },
      "source": [
        "model.summary()"
      ],
      "execution_count": null,
      "outputs": []
    },
    {
      "cell_type": "code",
      "metadata": {
        "id": "qLeULNft0srh"
      },
      "source": [
        "model = MyModel(14)"
      ],
      "execution_count": null,
      "outputs": []
    },
    {
      "cell_type": "code",
      "metadata": {
        "id": "069ZPoRP0LIe"
      },
      "source": [
        "loss_function = tf.keras.losses.CategoricalCrossentropy()\n",
        "optimizer = tf.keras.optimizers.Adam()"
      ],
      "execution_count": null,
      "outputs": []
    },
    {
      "cell_type": "code",
      "metadata": {
        "id": "eXt9TgXWyEI8"
      },
      "source": [
        "train_loss = tf.keras.metrics.Mean(name='train_loss')\n",
        "train_acc = tf.keras.metrics.CategoricalAccuracy(name='train_acc')\n",
        "\n",
        "val_loss = tf.keras.metrics.Mean(name='val_loss')\n",
        "val_acc = tf.keras.metrics.CategoricalAccuracy(name='val_acc')\n"
      ],
      "execution_count": null,
      "outputs": []
    },
    {
      "cell_type": "code",
      "metadata": {
        "id": "zOgL8Q1Jv1Yi"
      },
      "source": [
        "def train_step(images,y):\n",
        "  with tf.GradientTape() as tape:\n",
        "    y_pred = model(images,training=True)    \n",
        "    loss = loss_function(y,y_pred)\n",
        "  gradients = tape.gradient(loss,model.trainable_variables)\n",
        "  optimizer.apply_gradients(zip(gradients,model.trainable_variables))\n",
        "  train_loss(loss)\n",
        "  train_acc(y,y_pred)\n",
        " "
      ],
      "execution_count": null,
      "outputs": []
    },
    {
      "cell_type": "code",
      "metadata": {
        "id": "sAlGFEV1DP2p"
      },
      "source": [
        "def val_step(images,y):\n",
        "  y_pred = model(images,training=False)\n",
        "  loss = loss_function(y,y_pred)\n",
        "\n",
        "  val_loss(loss)\n",
        "  val_acc(y,y_pred)"
      ],
      "execution_count": null,
      "outputs": []
    },
    {
      "cell_type": "code",
      "metadata": {
        "id": "ygr6k1BzEE3T"
      },
      "source": [
        "def train():\n",
        "  epochs=config.epochs\n",
        "  for epoch in range(epochs):\n",
        "\n",
        "    train_loss.reset_states()\n",
        "    train_acc.reset_states()\n",
        "    val_loss.reset_states()\n",
        "    val_acc.reset_states()\n",
        "\n",
        "    cnt = 0\n",
        "    for cnt in tqdm(range(train_data.__len__())):\n",
        "      images,labels = next(train_data)\n",
        "      train_step(images,labels)\n",
        "    \n",
        "    for cnt in tqdm(range(val_data.__len__())):\n",
        "      images,labels = next(val_data)\n",
        "      val_step(images,labels)\n",
        "\n",
        "    print('epoch:',epoch+1)\n",
        "    print('loss:',train_loss.result())\n",
        "    print('accuracy:',train_acc.result())\n",
        "    print('val loss:',val_loss.result())\n",
        "    print('val accuracy:',val_acc.result())\n",
        "    print('-------------------------------------------------------------------')\n",
        "\n",
        "\n",
        "    #log metrics using wandb.log\n",
        "    wandb.log({'epochs': epoch,\n",
        "                'loss': train_loss.result(),\n",
        "                'acc': train_acc.result(), \n",
        "                'val_loss': val_loss.result(),\n",
        "                'val_acc':val_acc.result()})"
      ],
      "execution_count": null,
      "outputs": []
    },
    {
      "cell_type": "code",
      "metadata": {
        "id": "rWBFT92HHUQw",
        "colab": {
          "base_uri": "https://localhost:8080/"
        },
        "outputId": "496ac237-a074-4032-e25a-24f7959c1c3d"
      },
      "source": [
        "#fit\n",
        "train()"
      ],
      "execution_count": null,
      "outputs": [
        {
          "output_type": "stream",
          "name": "stderr",
          "text": [
            "100%|██████████| 35/35 [00:29<00:00,  1.20it/s]\n",
            "100%|██████████| 9/9 [00:28<00:00,  3.21s/it]\n"
          ]
        },
        {
          "output_type": "stream",
          "name": "stdout",
          "text": [
            "epoch: 1\n",
            "loss: tf.Tensor(2.9224, shape=(), dtype=float32)\n",
            "accuracy: tf.Tensor(0.06874427, shape=(), dtype=float32)\n",
            "val loss: tf.Tensor(2.6066816, shape=(), dtype=float32)\n",
            "val accuracy: tf.Tensor(0.15298508, shape=(), dtype=float32)\n",
            "-------------------------------------------------------------------\n"
          ]
        },
        {
          "output_type": "stream",
          "name": "stderr",
          "text": [
            "100%|██████████| 35/35 [00:26<00:00,  1.32it/s]\n",
            "100%|██████████| 9/9 [00:05<00:00,  1.79it/s]\n"
          ]
        },
        {
          "output_type": "stream",
          "name": "stdout",
          "text": [
            "epoch: 2\n",
            "loss: tf.Tensor(2.5360038, shape=(), dtype=float32)\n",
            "accuracy: tf.Tensor(0.14757104, shape=(), dtype=float32)\n",
            "val loss: tf.Tensor(2.3808403, shape=(), dtype=float32)\n",
            "val accuracy: tf.Tensor(0.29850745, shape=(), dtype=float32)\n",
            "-------------------------------------------------------------------\n"
          ]
        },
        {
          "output_type": "stream",
          "name": "stderr",
          "text": [
            "100%|██████████| 35/35 [00:26<00:00,  1.33it/s]\n",
            "100%|██████████| 9/9 [00:04<00:00,  1.83it/s]\n"
          ]
        },
        {
          "output_type": "stream",
          "name": "stdout",
          "text": [
            "epoch: 3\n",
            "loss: tf.Tensor(2.1931057, shape=(), dtype=float32)\n",
            "accuracy: tf.Tensor(0.2823098, shape=(), dtype=float32)\n",
            "val loss: tf.Tensor(1.8665551, shape=(), dtype=float32)\n",
            "val accuracy: tf.Tensor(0.47761193, shape=(), dtype=float32)\n",
            "-------------------------------------------------------------------\n"
          ]
        },
        {
          "output_type": "stream",
          "name": "stderr",
          "text": [
            "100%|██████████| 35/35 [00:26<00:00,  1.32it/s]\n",
            "100%|██████████| 9/9 [00:05<00:00,  1.77it/s]\n"
          ]
        },
        {
          "output_type": "stream",
          "name": "stdout",
          "text": [
            "epoch: 4\n",
            "loss: tf.Tensor(1.7612416, shape=(), dtype=float32)\n",
            "accuracy: tf.Tensor(0.4417965, shape=(), dtype=float32)\n",
            "val loss: tf.Tensor(1.5719804, shape=(), dtype=float32)\n",
            "val accuracy: tf.Tensor(0.5895522, shape=(), dtype=float32)\n",
            "-------------------------------------------------------------------\n"
          ]
        },
        {
          "output_type": "stream",
          "name": "stderr",
          "text": [
            "100%|██████████| 35/35 [00:26<00:00,  1.31it/s]\n",
            "100%|██████████| 9/9 [00:05<00:00,  1.76it/s]\n"
          ]
        },
        {
          "output_type": "stream",
          "name": "stdout",
          "text": [
            "epoch: 5\n",
            "loss: tf.Tensor(1.4541008, shape=(), dtype=float32)\n",
            "accuracy: tf.Tensor(0.54353803, shape=(), dtype=float32)\n",
            "val loss: tf.Tensor(1.2160072, shape=(), dtype=float32)\n",
            "val accuracy: tf.Tensor(0.6828358, shape=(), dtype=float32)\n",
            "-------------------------------------------------------------------\n"
          ]
        },
        {
          "output_type": "stream",
          "name": "stderr",
          "text": [
            "100%|██████████| 35/35 [00:26<00:00,  1.31it/s]\n",
            "100%|██████████| 9/9 [00:05<00:00,  1.77it/s]\n"
          ]
        },
        {
          "output_type": "stream",
          "name": "stdout",
          "text": [
            "epoch: 6\n",
            "loss: tf.Tensor(1.0776885, shape=(), dtype=float32)\n",
            "accuracy: tf.Tensor(0.6480293, shape=(), dtype=float32)\n",
            "val loss: tf.Tensor(0.9795333, shape=(), dtype=float32)\n",
            "val accuracy: tf.Tensor(0.7425373, shape=(), dtype=float32)\n",
            "-------------------------------------------------------------------\n"
          ]
        },
        {
          "output_type": "stream",
          "name": "stderr",
          "text": [
            "100%|██████████| 35/35 [00:26<00:00,  1.32it/s]\n",
            "100%|██████████| 9/9 [00:05<00:00,  1.79it/s]\n"
          ]
        },
        {
          "output_type": "stream",
          "name": "stdout",
          "text": [
            "epoch: 7\n",
            "loss: tf.Tensor(0.86563975, shape=(), dtype=float32)\n",
            "accuracy: tf.Tensor(0.72868925, shape=(), dtype=float32)\n",
            "val loss: tf.Tensor(0.897836, shape=(), dtype=float32)\n",
            "val accuracy: tf.Tensor(0.7574627, shape=(), dtype=float32)\n",
            "-------------------------------------------------------------------\n"
          ]
        },
        {
          "output_type": "stream",
          "name": "stderr",
          "text": [
            "100%|██████████| 35/35 [00:26<00:00,  1.32it/s]\n",
            "100%|██████████| 9/9 [00:05<00:00,  1.77it/s]\n"
          ]
        },
        {
          "output_type": "stream",
          "name": "stdout",
          "text": [
            "epoch: 8\n",
            "loss: tf.Tensor(0.7067728, shape=(), dtype=float32)\n",
            "accuracy: tf.Tensor(0.76718605, shape=(), dtype=float32)\n",
            "val loss: tf.Tensor(0.88591415, shape=(), dtype=float32)\n",
            "val accuracy: tf.Tensor(0.7761194, shape=(), dtype=float32)\n",
            "-------------------------------------------------------------------\n"
          ]
        },
        {
          "output_type": "stream",
          "name": "stderr",
          "text": [
            "100%|██████████| 35/35 [00:26<00:00,  1.31it/s]\n",
            "100%|██████████| 9/9 [00:05<00:00,  1.78it/s]\n"
          ]
        },
        {
          "output_type": "stream",
          "name": "stdout",
          "text": [
            "epoch: 9\n",
            "loss: tf.Tensor(0.54102033, shape=(), dtype=float32)\n",
            "accuracy: tf.Tensor(0.82584786, shape=(), dtype=float32)\n",
            "val loss: tf.Tensor(0.84029317, shape=(), dtype=float32)\n",
            "val accuracy: tf.Tensor(0.82835823, shape=(), dtype=float32)\n",
            "-------------------------------------------------------------------\n"
          ]
        },
        {
          "output_type": "stream",
          "name": "stderr",
          "text": [
            "100%|██████████| 35/35 [00:26<00:00,  1.31it/s]\n",
            "100%|██████████| 9/9 [00:05<00:00,  1.77it/s]\n"
          ]
        },
        {
          "output_type": "stream",
          "name": "stdout",
          "text": [
            "epoch: 10\n",
            "loss: tf.Tensor(0.45702082, shape=(), dtype=float32)\n",
            "accuracy: tf.Tensor(0.8496792, shape=(), dtype=float32)\n",
            "val loss: tf.Tensor(0.84172225, shape=(), dtype=float32)\n",
            "val accuracy: tf.Tensor(0.8358209, shape=(), dtype=float32)\n",
            "-------------------------------------------------------------------\n"
          ]
        },
        {
          "output_type": "stream",
          "name": "stderr",
          "text": [
            "100%|██████████| 35/35 [00:26<00:00,  1.31it/s]\n",
            "100%|██████████| 9/9 [00:05<00:00,  1.78it/s]\n"
          ]
        },
        {
          "output_type": "stream",
          "name": "stdout",
          "text": [
            "epoch: 11\n",
            "loss: tf.Tensor(0.38407233, shape=(), dtype=float32)\n",
            "accuracy: tf.Tensor(0.8771769, shape=(), dtype=float32)\n",
            "val loss: tf.Tensor(0.7468026, shape=(), dtype=float32)\n",
            "val accuracy: tf.Tensor(0.80597013, shape=(), dtype=float32)\n",
            "-------------------------------------------------------------------\n"
          ]
        },
        {
          "output_type": "stream",
          "name": "stderr",
          "text": [
            "100%|██████████| 35/35 [00:26<00:00,  1.31it/s]\n",
            "100%|██████████| 9/9 [00:05<00:00,  1.76it/s]\n"
          ]
        },
        {
          "output_type": "stream",
          "name": "stdout",
          "text": [
            "epoch: 12\n",
            "loss: tf.Tensor(0.38665786, shape=(), dtype=float32)\n",
            "accuracy: tf.Tensor(0.89275897, shape=(), dtype=float32)\n",
            "val loss: tf.Tensor(0.79080623, shape=(), dtype=float32)\n",
            "val accuracy: tf.Tensor(0.82462686, shape=(), dtype=float32)\n",
            "-------------------------------------------------------------------\n"
          ]
        },
        {
          "output_type": "stream",
          "name": "stderr",
          "text": [
            "100%|██████████| 35/35 [00:26<00:00,  1.31it/s]\n",
            "100%|██████████| 9/9 [00:04<00:00,  1.80it/s]\n"
          ]
        },
        {
          "output_type": "stream",
          "name": "stdout",
          "text": [
            "epoch: 13\n",
            "loss: tf.Tensor(0.4805407, shape=(), dtype=float32)\n",
            "accuracy: tf.Tensor(0.86251146, shape=(), dtype=float32)\n",
            "val loss: tf.Tensor(0.88710123, shape=(), dtype=float32)\n",
            "val accuracy: tf.Tensor(0.7910448, shape=(), dtype=float32)\n",
            "-------------------------------------------------------------------\n"
          ]
        },
        {
          "output_type": "stream",
          "name": "stderr",
          "text": [
            "100%|██████████| 35/35 [00:26<00:00,  1.31it/s]\n",
            "100%|██████████| 9/9 [00:05<00:00,  1.76it/s]\n"
          ]
        },
        {
          "output_type": "stream",
          "name": "stdout",
          "text": [
            "epoch: 14\n",
            "loss: tf.Tensor(0.35731074, shape=(), dtype=float32)\n",
            "accuracy: tf.Tensor(0.88909256, shape=(), dtype=float32)\n",
            "val loss: tf.Tensor(0.7693696, shape=(), dtype=float32)\n",
            "val accuracy: tf.Tensor(0.82462686, shape=(), dtype=float32)\n",
            "-------------------------------------------------------------------\n"
          ]
        },
        {
          "output_type": "stream",
          "name": "stderr",
          "text": [
            "100%|██████████| 35/35 [00:26<00:00,  1.31it/s]\n",
            "100%|██████████| 9/9 [00:05<00:00,  1.79it/s]\n"
          ]
        },
        {
          "output_type": "stream",
          "name": "stdout",
          "text": [
            "epoch: 15\n",
            "loss: tf.Tensor(0.25672185, shape=(), dtype=float32)\n",
            "accuracy: tf.Tensor(0.92758936, shape=(), dtype=float32)\n",
            "val loss: tf.Tensor(0.77633, shape=(), dtype=float32)\n",
            "val accuracy: tf.Tensor(0.82835823, shape=(), dtype=float32)\n",
            "-------------------------------------------------------------------\n"
          ]
        },
        {
          "output_type": "stream",
          "name": "stderr",
          "text": [
            "100%|██████████| 35/35 [00:26<00:00,  1.31it/s]\n",
            "100%|██████████| 9/9 [00:05<00:00,  1.77it/s]\n"
          ]
        },
        {
          "output_type": "stream",
          "name": "stdout",
          "text": [
            "epoch: 16\n",
            "loss: tf.Tensor(0.25770998, shape=(), dtype=float32)\n",
            "accuracy: tf.Tensor(0.908341, shape=(), dtype=float32)\n",
            "val loss: tf.Tensor(0.9665019, shape=(), dtype=float32)\n",
            "val accuracy: tf.Tensor(0.8134328, shape=(), dtype=float32)\n",
            "-------------------------------------------------------------------\n"
          ]
        },
        {
          "output_type": "stream",
          "name": "stderr",
          "text": [
            "100%|██████████| 35/35 [00:26<00:00,  1.30it/s]\n",
            "100%|██████████| 9/9 [00:05<00:00,  1.77it/s]\n"
          ]
        },
        {
          "output_type": "stream",
          "name": "stdout",
          "text": [
            "epoch: 17\n",
            "loss: tf.Tensor(0.22549058, shape=(), dtype=float32)\n",
            "accuracy: tf.Tensor(0.9367553, shape=(), dtype=float32)\n",
            "val loss: tf.Tensor(0.9630463, shape=(), dtype=float32)\n",
            "val accuracy: tf.Tensor(0.8432836, shape=(), dtype=float32)\n",
            "-------------------------------------------------------------------\n"
          ]
        },
        {
          "output_type": "stream",
          "name": "stderr",
          "text": [
            "100%|██████████| 35/35 [00:26<00:00,  1.31it/s]\n",
            "100%|██████████| 9/9 [00:05<00:00,  1.76it/s]\n"
          ]
        },
        {
          "output_type": "stream",
          "name": "stdout",
          "text": [
            "epoch: 18\n",
            "loss: tf.Tensor(0.20998427, shape=(), dtype=float32)\n",
            "accuracy: tf.Tensor(0.9349221, shape=(), dtype=float32)\n",
            "val loss: tf.Tensor(0.75402343, shape=(), dtype=float32)\n",
            "val accuracy: tf.Tensor(0.8395522, shape=(), dtype=float32)\n",
            "-------------------------------------------------------------------\n"
          ]
        },
        {
          "output_type": "stream",
          "name": "stderr",
          "text": [
            "100%|██████████| 35/35 [00:26<00:00,  1.31it/s]\n",
            "100%|██████████| 9/9 [00:05<00:00,  1.77it/s]\n"
          ]
        },
        {
          "output_type": "stream",
          "name": "stdout",
          "text": [
            "epoch: 19\n",
            "loss: tf.Tensor(0.15268087, shape=(), dtype=float32)\n",
            "accuracy: tf.Tensor(0.9505041, shape=(), dtype=float32)\n",
            "val loss: tf.Tensor(0.964475, shape=(), dtype=float32)\n",
            "val accuracy: tf.Tensor(0.8358209, shape=(), dtype=float32)\n",
            "-------------------------------------------------------------------\n"
          ]
        },
        {
          "output_type": "stream",
          "name": "stderr",
          "text": [
            "100%|██████████| 35/35 [00:26<00:00,  1.31it/s]\n",
            "100%|██████████| 9/9 [00:05<00:00,  1.76it/s]\n"
          ]
        },
        {
          "output_type": "stream",
          "name": "stdout",
          "text": [
            "epoch: 20\n",
            "loss: tf.Tensor(0.14316133, shape=(), dtype=float32)\n",
            "accuracy: tf.Tensor(0.9505041, shape=(), dtype=float32)\n",
            "val loss: tf.Tensor(0.79460526, shape=(), dtype=float32)\n",
            "val accuracy: tf.Tensor(0.86567163, shape=(), dtype=float32)\n",
            "-------------------------------------------------------------------\n"
          ]
        },
        {
          "output_type": "stream",
          "name": "stderr",
          "text": [
            "100%|██████████| 35/35 [00:26<00:00,  1.31it/s]\n",
            "100%|██████████| 9/9 [00:05<00:00,  1.77it/s]\n"
          ]
        },
        {
          "output_type": "stream",
          "name": "stdout",
          "text": [
            "epoch: 21\n",
            "loss: tf.Tensor(0.11011986, shape=(), dtype=float32)\n",
            "accuracy: tf.Tensor(0.96516955, shape=(), dtype=float32)\n",
            "val loss: tf.Tensor(0.7984511, shape=(), dtype=float32)\n",
            "val accuracy: tf.Tensor(0.85820895, shape=(), dtype=float32)\n",
            "-------------------------------------------------------------------\n"
          ]
        },
        {
          "output_type": "stream",
          "name": "stderr",
          "text": [
            "100%|██████████| 35/35 [00:26<00:00,  1.32it/s]\n",
            "100%|██████████| 9/9 [00:05<00:00,  1.77it/s]\n"
          ]
        },
        {
          "output_type": "stream",
          "name": "stdout",
          "text": [
            "epoch: 22\n",
            "loss: tf.Tensor(0.10370597, shape=(), dtype=float32)\n",
            "accuracy: tf.Tensor(0.96791935, shape=(), dtype=float32)\n",
            "val loss: tf.Tensor(0.89336234, shape=(), dtype=float32)\n",
            "val accuracy: tf.Tensor(0.85820895, shape=(), dtype=float32)\n",
            "-------------------------------------------------------------------\n"
          ]
        },
        {
          "output_type": "stream",
          "name": "stderr",
          "text": [
            "100%|██████████| 35/35 [00:26<00:00,  1.32it/s]\n",
            "100%|██████████| 9/9 [00:05<00:00,  1.79it/s]\n"
          ]
        },
        {
          "output_type": "stream",
          "name": "stdout",
          "text": [
            "epoch: 23\n",
            "loss: tf.Tensor(0.10699532, shape=(), dtype=float32)\n",
            "accuracy: tf.Tensor(0.96791935, shape=(), dtype=float32)\n",
            "val loss: tf.Tensor(0.75128305, shape=(), dtype=float32)\n",
            "val accuracy: tf.Tensor(0.86567163, shape=(), dtype=float32)\n",
            "-------------------------------------------------------------------\n"
          ]
        },
        {
          "output_type": "stream",
          "name": "stderr",
          "text": [
            "100%|██████████| 35/35 [00:26<00:00,  1.31it/s]\n",
            "100%|██████████| 9/9 [00:05<00:00,  1.76it/s]\n"
          ]
        },
        {
          "output_type": "stream",
          "name": "stdout",
          "text": [
            "epoch: 24\n",
            "loss: tf.Tensor(0.10693117, shape=(), dtype=float32)\n",
            "accuracy: tf.Tensor(0.96608615, shape=(), dtype=float32)\n",
            "val loss: tf.Tensor(0.9214755, shape=(), dtype=float32)\n",
            "val accuracy: tf.Tensor(0.82835823, shape=(), dtype=float32)\n",
            "-------------------------------------------------------------------\n"
          ]
        },
        {
          "output_type": "stream",
          "name": "stderr",
          "text": [
            "100%|██████████| 35/35 [00:26<00:00,  1.31it/s]\n",
            "100%|██████████| 9/9 [00:05<00:00,  1.78it/s]\n"
          ]
        },
        {
          "output_type": "stream",
          "name": "stdout",
          "text": [
            "epoch: 25\n",
            "loss: tf.Tensor(0.0974476, shape=(), dtype=float32)\n",
            "accuracy: tf.Tensor(0.96608615, shape=(), dtype=float32)\n",
            "val loss: tf.Tensor(0.8245753, shape=(), dtype=float32)\n",
            "val accuracy: tf.Tensor(0.8768657, shape=(), dtype=float32)\n",
            "-------------------------------------------------------------------\n"
          ]
        },
        {
          "output_type": "stream",
          "name": "stderr",
          "text": [
            "100%|██████████| 35/35 [00:26<00:00,  1.31it/s]\n",
            "100%|██████████| 9/9 [00:05<00:00,  1.75it/s]\n"
          ]
        },
        {
          "output_type": "stream",
          "name": "stdout",
          "text": [
            "epoch: 26\n",
            "loss: tf.Tensor(0.146888, shape=(), dtype=float32)\n",
            "accuracy: tf.Tensor(0.95967, shape=(), dtype=float32)\n",
            "val loss: tf.Tensor(0.8365672, shape=(), dtype=float32)\n",
            "val accuracy: tf.Tensor(0.8470149, shape=(), dtype=float32)\n",
            "-------------------------------------------------------------------\n"
          ]
        },
        {
          "output_type": "stream",
          "name": "stderr",
          "text": [
            "100%|██████████| 35/35 [00:26<00:00,  1.32it/s]\n",
            "100%|██████████| 9/9 [00:05<00:00,  1.78it/s]\n"
          ]
        },
        {
          "output_type": "stream",
          "name": "stdout",
          "text": [
            "epoch: 27\n",
            "loss: tf.Tensor(0.07306081, shape=(), dtype=float32)\n",
            "accuracy: tf.Tensor(0.97800183, shape=(), dtype=float32)\n",
            "val loss: tf.Tensor(1.0031189, shape=(), dtype=float32)\n",
            "val accuracy: tf.Tensor(0.8470149, shape=(), dtype=float32)\n",
            "-------------------------------------------------------------------\n"
          ]
        },
        {
          "output_type": "stream",
          "name": "stderr",
          "text": [
            "100%|██████████| 35/35 [00:26<00:00,  1.32it/s]\n",
            "100%|██████████| 9/9 [00:05<00:00,  1.80it/s]\n"
          ]
        },
        {
          "output_type": "stream",
          "name": "stdout",
          "text": [
            "epoch: 28\n",
            "loss: tf.Tensor(0.078739375, shape=(), dtype=float32)\n",
            "accuracy: tf.Tensor(0.97708523, shape=(), dtype=float32)\n",
            "val loss: tf.Tensor(1.017943, shape=(), dtype=float32)\n",
            "val accuracy: tf.Tensor(0.8544776, shape=(), dtype=float32)\n",
            "-------------------------------------------------------------------\n"
          ]
        },
        {
          "output_type": "stream",
          "name": "stderr",
          "text": [
            "100%|██████████| 35/35 [00:26<00:00,  1.32it/s]\n",
            "100%|██████████| 9/9 [00:05<00:00,  1.78it/s]\n"
          ]
        },
        {
          "output_type": "stream",
          "name": "stdout",
          "text": [
            "epoch: 29\n",
            "loss: tf.Tensor(0.071953595, shape=(), dtype=float32)\n",
            "accuracy: tf.Tensor(0.97616863, shape=(), dtype=float32)\n",
            "val loss: tf.Tensor(0.86035943, shape=(), dtype=float32)\n",
            "val accuracy: tf.Tensor(0.86567163, shape=(), dtype=float32)\n",
            "-------------------------------------------------------------------\n"
          ]
        },
        {
          "output_type": "stream",
          "name": "stderr",
          "text": [
            "100%|██████████| 35/35 [00:26<00:00,  1.31it/s]\n",
            "100%|██████████| 9/9 [00:05<00:00,  1.77it/s]\n"
          ]
        },
        {
          "output_type": "stream",
          "name": "stdout",
          "text": [
            "epoch: 30\n",
            "loss: tf.Tensor(0.119367234, shape=(), dtype=float32)\n",
            "accuracy: tf.Tensor(0.96608615, shape=(), dtype=float32)\n",
            "val loss: tf.Tensor(0.7228795, shape=(), dtype=float32)\n",
            "val accuracy: tf.Tensor(0.8544776, shape=(), dtype=float32)\n",
            "-------------------------------------------------------------------\n"
          ]
        },
        {
          "output_type": "stream",
          "name": "stderr",
          "text": [
            "100%|██████████| 35/35 [00:26<00:00,  1.32it/s]\n",
            "100%|██████████| 9/9 [00:05<00:00,  1.77it/s]\n"
          ]
        },
        {
          "output_type": "stream",
          "name": "stdout",
          "text": [
            "epoch: 31\n",
            "loss: tf.Tensor(0.056920268, shape=(), dtype=float32)\n",
            "accuracy: tf.Tensor(0.98075163, shape=(), dtype=float32)\n",
            "val loss: tf.Tensor(0.867678, shape=(), dtype=float32)\n",
            "val accuracy: tf.Tensor(0.8768657, shape=(), dtype=float32)\n",
            "-------------------------------------------------------------------\n"
          ]
        },
        {
          "output_type": "stream",
          "name": "stderr",
          "text": [
            "100%|██████████| 35/35 [00:26<00:00,  1.32it/s]\n",
            "100%|██████████| 9/9 [00:05<00:00,  1.77it/s]\n"
          ]
        },
        {
          "output_type": "stream",
          "name": "stdout",
          "text": [
            "epoch: 32\n",
            "loss: tf.Tensor(0.09451126, shape=(), dtype=float32)\n",
            "accuracy: tf.Tensor(0.9725023, shape=(), dtype=float32)\n",
            "val loss: tf.Tensor(0.67857796, shape=(), dtype=float32)\n",
            "val accuracy: tf.Tensor(0.8768657, shape=(), dtype=float32)\n",
            "-------------------------------------------------------------------\n"
          ]
        },
        {
          "output_type": "stream",
          "name": "stderr",
          "text": [
            "100%|██████████| 35/35 [00:26<00:00,  1.32it/s]\n",
            "100%|██████████| 9/9 [00:05<00:00,  1.79it/s]\n"
          ]
        },
        {
          "output_type": "stream",
          "name": "stdout",
          "text": [
            "epoch: 33\n",
            "loss: tf.Tensor(0.067386985, shape=(), dtype=float32)\n",
            "accuracy: tf.Tensor(0.98075163, shape=(), dtype=float32)\n",
            "val loss: tf.Tensor(0.6893615, shape=(), dtype=float32)\n",
            "val accuracy: tf.Tensor(0.880597, shape=(), dtype=float32)\n",
            "-------------------------------------------------------------------\n"
          ]
        },
        {
          "output_type": "stream",
          "name": "stderr",
          "text": [
            "100%|██████████| 35/35 [00:26<00:00,  1.31it/s]\n",
            "100%|██████████| 9/9 [00:05<00:00,  1.77it/s]\n"
          ]
        },
        {
          "output_type": "stream",
          "name": "stdout",
          "text": [
            "epoch: 34\n",
            "loss: tf.Tensor(0.06652205, shape=(), dtype=float32)\n",
            "accuracy: tf.Tensor(0.9816682, shape=(), dtype=float32)\n",
            "val loss: tf.Tensor(0.73372465, shape=(), dtype=float32)\n",
            "val accuracy: tf.Tensor(0.8731343, shape=(), dtype=float32)\n",
            "-------------------------------------------------------------------\n"
          ]
        },
        {
          "output_type": "stream",
          "name": "stderr",
          "text": [
            "100%|██████████| 35/35 [00:26<00:00,  1.31it/s]\n",
            "100%|██████████| 9/9 [00:05<00:00,  1.78it/s]\n"
          ]
        },
        {
          "output_type": "stream",
          "name": "stdout",
          "text": [
            "epoch: 35\n",
            "loss: tf.Tensor(0.06809513, shape=(), dtype=float32)\n",
            "accuracy: tf.Tensor(0.97983503, shape=(), dtype=float32)\n",
            "val loss: tf.Tensor(0.8114952, shape=(), dtype=float32)\n",
            "val accuracy: tf.Tensor(0.8395522, shape=(), dtype=float32)\n",
            "-------------------------------------------------------------------\n"
          ]
        },
        {
          "output_type": "stream",
          "name": "stderr",
          "text": [
            "100%|██████████| 35/35 [00:26<00:00,  1.31it/s]\n",
            "100%|██████████| 9/9 [00:05<00:00,  1.77it/s]\n"
          ]
        },
        {
          "output_type": "stream",
          "name": "stdout",
          "text": [
            "epoch: 36\n",
            "loss: tf.Tensor(0.078433245, shape=(), dtype=float32)\n",
            "accuracy: tf.Tensor(0.97891843, shape=(), dtype=float32)\n",
            "val loss: tf.Tensor(0.9145881, shape=(), dtype=float32)\n",
            "val accuracy: tf.Tensor(0.869403, shape=(), dtype=float32)\n",
            "-------------------------------------------------------------------\n"
          ]
        },
        {
          "output_type": "stream",
          "name": "stderr",
          "text": [
            "100%|██████████| 35/35 [00:26<00:00,  1.31it/s]\n",
            "100%|██████████| 9/9 [00:05<00:00,  1.78it/s]\n"
          ]
        },
        {
          "output_type": "stream",
          "name": "stdout",
          "text": [
            "epoch: 37\n",
            "loss: tf.Tensor(0.07553631, shape=(), dtype=float32)\n",
            "accuracy: tf.Tensor(0.97708523, shape=(), dtype=float32)\n",
            "val loss: tf.Tensor(0.71659756, shape=(), dtype=float32)\n",
            "val accuracy: tf.Tensor(0.86567163, shape=(), dtype=float32)\n",
            "-------------------------------------------------------------------\n"
          ]
        },
        {
          "output_type": "stream",
          "name": "stderr",
          "text": [
            "100%|██████████| 35/35 [00:26<00:00,  1.31it/s]\n",
            "100%|██████████| 9/9 [00:05<00:00,  1.77it/s]\n"
          ]
        },
        {
          "output_type": "stream",
          "name": "stdout",
          "text": [
            "epoch: 38\n",
            "loss: tf.Tensor(0.04075939, shape=(), dtype=float32)\n",
            "accuracy: tf.Tensor(0.9825848, shape=(), dtype=float32)\n",
            "val loss: tf.Tensor(0.6964987, shape=(), dtype=float32)\n",
            "val accuracy: tf.Tensor(0.8768657, shape=(), dtype=float32)\n",
            "-------------------------------------------------------------------\n"
          ]
        },
        {
          "output_type": "stream",
          "name": "stderr",
          "text": [
            "100%|██████████| 35/35 [00:26<00:00,  1.32it/s]\n",
            "100%|██████████| 9/9 [00:05<00:00,  1.79it/s]\n"
          ]
        },
        {
          "output_type": "stream",
          "name": "stdout",
          "text": [
            "epoch: 39\n",
            "loss: tf.Tensor(0.061736453, shape=(), dtype=float32)\n",
            "accuracy: tf.Tensor(0.9862512, shape=(), dtype=float32)\n",
            "val loss: tf.Tensor(0.9225411, shape=(), dtype=float32)\n",
            "val accuracy: tf.Tensor(0.83208954, shape=(), dtype=float32)\n",
            "-------------------------------------------------------------------\n"
          ]
        },
        {
          "output_type": "stream",
          "name": "stderr",
          "text": [
            "100%|██████████| 35/35 [00:26<00:00,  1.32it/s]\n",
            "100%|██████████| 9/9 [00:05<00:00,  1.76it/s]\n"
          ]
        },
        {
          "output_type": "stream",
          "name": "stdout",
          "text": [
            "epoch: 40\n",
            "loss: tf.Tensor(0.07008299, shape=(), dtype=float32)\n",
            "accuracy: tf.Tensor(0.9825848, shape=(), dtype=float32)\n",
            "val loss: tf.Tensor(0.78653526, shape=(), dtype=float32)\n",
            "val accuracy: tf.Tensor(0.880597, shape=(), dtype=float32)\n",
            "-------------------------------------------------------------------\n"
          ]
        },
        {
          "output_type": "stream",
          "name": "stderr",
          "text": [
            "100%|██████████| 35/35 [00:26<00:00,  1.32it/s]\n",
            "100%|██████████| 9/9 [00:05<00:00,  1.75it/s]\n"
          ]
        },
        {
          "output_type": "stream",
          "name": "stdout",
          "text": [
            "epoch: 41\n",
            "loss: tf.Tensor(0.09070531, shape=(), dtype=float32)\n",
            "accuracy: tf.Tensor(0.97891843, shape=(), dtype=float32)\n",
            "val loss: tf.Tensor(0.74059105, shape=(), dtype=float32)\n",
            "val accuracy: tf.Tensor(0.8731343, shape=(), dtype=float32)\n",
            "-------------------------------------------------------------------\n"
          ]
        },
        {
          "output_type": "stream",
          "name": "stderr",
          "text": [
            "100%|██████████| 35/35 [00:26<00:00,  1.32it/s]\n",
            "100%|██████████| 9/9 [00:05<00:00,  1.76it/s]\n"
          ]
        },
        {
          "output_type": "stream",
          "name": "stdout",
          "text": [
            "epoch: 42\n",
            "loss: tf.Tensor(0.09221216, shape=(), dtype=float32)\n",
            "accuracy: tf.Tensor(0.9734189, shape=(), dtype=float32)\n",
            "val loss: tf.Tensor(0.826675, shape=(), dtype=float32)\n",
            "val accuracy: tf.Tensor(0.8470149, shape=(), dtype=float32)\n",
            "-------------------------------------------------------------------\n"
          ]
        },
        {
          "output_type": "stream",
          "name": "stderr",
          "text": [
            "100%|██████████| 35/35 [00:26<00:00,  1.32it/s]\n",
            "100%|██████████| 9/9 [00:05<00:00,  1.77it/s]\n"
          ]
        },
        {
          "output_type": "stream",
          "name": "stdout",
          "text": [
            "epoch: 43\n",
            "loss: tf.Tensor(0.10148798, shape=(), dtype=float32)\n",
            "accuracy: tf.Tensor(0.9725023, shape=(), dtype=float32)\n",
            "val loss: tf.Tensor(0.695641, shape=(), dtype=float32)\n",
            "val accuracy: tf.Tensor(0.8880597, shape=(), dtype=float32)\n",
            "-------------------------------------------------------------------\n"
          ]
        },
        {
          "output_type": "stream",
          "name": "stderr",
          "text": [
            "100%|██████████| 35/35 [00:26<00:00,  1.31it/s]\n",
            "100%|██████████| 9/9 [00:05<00:00,  1.80it/s]\n"
          ]
        },
        {
          "output_type": "stream",
          "name": "stdout",
          "text": [
            "epoch: 44\n",
            "loss: tf.Tensor(0.06835846, shape=(), dtype=float32)\n",
            "accuracy: tf.Tensor(0.9752521, shape=(), dtype=float32)\n",
            "val loss: tf.Tensor(0.74794555, shape=(), dtype=float32)\n",
            "val accuracy: tf.Tensor(0.85820895, shape=(), dtype=float32)\n",
            "-------------------------------------------------------------------\n"
          ]
        },
        {
          "output_type": "stream",
          "name": "stderr",
          "text": [
            "100%|██████████| 35/35 [00:26<00:00,  1.32it/s]\n",
            "100%|██████████| 9/9 [00:05<00:00,  1.80it/s]\n"
          ]
        },
        {
          "output_type": "stream",
          "name": "stdout",
          "text": [
            "epoch: 45\n",
            "loss: tf.Tensor(0.075716935, shape=(), dtype=float32)\n",
            "accuracy: tf.Tensor(0.9835014, shape=(), dtype=float32)\n",
            "val loss: tf.Tensor(0.8998029, shape=(), dtype=float32)\n",
            "val accuracy: tf.Tensor(0.8432836, shape=(), dtype=float32)\n",
            "-------------------------------------------------------------------\n"
          ]
        },
        {
          "output_type": "stream",
          "name": "stderr",
          "text": [
            "100%|██████████| 35/35 [00:26<00:00,  1.33it/s]\n",
            "100%|██████████| 9/9 [00:05<00:00,  1.79it/s]\n"
          ]
        },
        {
          "output_type": "stream",
          "name": "stdout",
          "text": [
            "epoch: 46\n",
            "loss: tf.Tensor(0.04568213, shape=(), dtype=float32)\n",
            "accuracy: tf.Tensor(0.9871677, shape=(), dtype=float32)\n",
            "val loss: tf.Tensor(0.7128152, shape=(), dtype=float32)\n",
            "val accuracy: tf.Tensor(0.8955224, shape=(), dtype=float32)\n",
            "-------------------------------------------------------------------\n"
          ]
        },
        {
          "output_type": "stream",
          "name": "stderr",
          "text": [
            "100%|██████████| 35/35 [00:26<00:00,  1.32it/s]\n",
            "100%|██████████| 9/9 [00:04<00:00,  1.81it/s]\n"
          ]
        },
        {
          "output_type": "stream",
          "name": "stdout",
          "text": [
            "epoch: 47\n",
            "loss: tf.Tensor(0.040683687, shape=(), dtype=float32)\n",
            "accuracy: tf.Tensor(0.9890009, shape=(), dtype=float32)\n",
            "val loss: tf.Tensor(0.93368286, shape=(), dtype=float32)\n",
            "val accuracy: tf.Tensor(0.85820895, shape=(), dtype=float32)\n",
            "-------------------------------------------------------------------\n"
          ]
        },
        {
          "output_type": "stream",
          "name": "stderr",
          "text": [
            "100%|██████████| 35/35 [00:26<00:00,  1.31it/s]\n",
            "100%|██████████| 9/9 [00:05<00:00,  1.78it/s]\n"
          ]
        },
        {
          "output_type": "stream",
          "name": "stdout",
          "text": [
            "epoch: 48\n",
            "loss: tf.Tensor(0.062783405, shape=(), dtype=float32)\n",
            "accuracy: tf.Tensor(0.984418, shape=(), dtype=float32)\n",
            "val loss: tf.Tensor(0.68363255, shape=(), dtype=float32)\n",
            "val accuracy: tf.Tensor(0.8768657, shape=(), dtype=float32)\n",
            "-------------------------------------------------------------------\n"
          ]
        },
        {
          "output_type": "stream",
          "name": "stderr",
          "text": [
            "100%|██████████| 35/35 [00:26<00:00,  1.32it/s]\n",
            "100%|██████████| 9/9 [00:05<00:00,  1.77it/s]\n"
          ]
        },
        {
          "output_type": "stream",
          "name": "stdout",
          "text": [
            "epoch: 49\n",
            "loss: tf.Tensor(0.045497995, shape=(), dtype=float32)\n",
            "accuracy: tf.Tensor(0.9862512, shape=(), dtype=float32)\n",
            "val loss: tf.Tensor(0.86530155, shape=(), dtype=float32)\n",
            "val accuracy: tf.Tensor(0.86567163, shape=(), dtype=float32)\n",
            "-------------------------------------------------------------------\n"
          ]
        },
        {
          "output_type": "stream",
          "name": "stderr",
          "text": [
            "100%|██████████| 35/35 [00:26<00:00,  1.32it/s]\n",
            "100%|██████████| 9/9 [00:05<00:00,  1.77it/s]"
          ]
        },
        {
          "output_type": "stream",
          "name": "stdout",
          "text": [
            "epoch: 50\n",
            "loss: tf.Tensor(0.066091955, shape=(), dtype=float32)\n",
            "accuracy: tf.Tensor(0.9862512, shape=(), dtype=float32)\n",
            "val loss: tf.Tensor(0.71518904, shape=(), dtype=float32)\n",
            "val accuracy: tf.Tensor(0.880597, shape=(), dtype=float32)\n",
            "-------------------------------------------------------------------\n"
          ]
        },
        {
          "output_type": "stream",
          "name": "stderr",
          "text": [
            "\n"
          ]
        }
      ]
    },
    {
      "cell_type": "code",
      "metadata": {
        "id": "6Ww3_W01IGal"
      },
      "source": [
        "model.save_weights('/content/drive/MyDrive/model2/')"
      ],
      "execution_count": null,
      "outputs": []
    },
    {
      "cell_type": "code",
      "metadata": {
        "id": "-Zz9aNA_Gd3N"
      },
      "source": [
        ""
      ],
      "execution_count": null,
      "outputs": []
    }
  ]
}